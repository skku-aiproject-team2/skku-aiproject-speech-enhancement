{
 "cells": [
  {
   "cell_type": "code",
   "execution_count": 4,
   "metadata": {},
   "outputs": [
    {
     "name": "stdout",
     "output_type": "stream",
     "text": [
      "824 clean files in test\n",
      "824 noisy files in test\n",
      "0 clean files in valid\n",
      "0 noisy files in valid\n",
      "412 clean files in test\n",
      "412 noisy files in test\n",
      "412 clean files in valid\n",
      "412 noisy files in valid\n"
     ]
    }
   ],
   "source": [
    "# count # of files in train/clean folder\n",
    "import os\n",
    "import sys\n",
    "\n",
    "# make validation folder\n",
    "os.makedirs(\"valid/clean\", exist_ok=True)\n",
    "os.makedirs(\"valid/noisy\", exist_ok=True)\n",
    "\n",
    "print(len(os.listdir(\"test/clean\")), \"clean files in test\")\n",
    "print(len(os.listdir(\"test/noisy\")), \"noisy files in test\")\n",
    "print(len(os.listdir(\"valid/clean\")), \"clean files in valid\")\n",
    "print(len(os.listdir(\"valid/noisy\")), \"noisy files in valid\")\n",
    "\n",
    "# choose half of the files to be validation set\n",
    "import random\n",
    "clean_files = os.listdir(\"test/clean\")\n",
    "random.shuffle(clean_files)\n",
    "clean_files = clean_files[:len(clean_files)//2]\n",
    "\n",
    "\n",
    "# move files to validation set\n",
    "for f in clean_files:\n",
    "    os.rename(\"test/clean/\"+f, \"valid/clean/\"+f)\n",
    "    os.rename(\"test/noisy/\"+f, \"valid/noisy/\"+f)\n",
    "\n",
    "\n",
    "print(len(os.listdir(\"test/clean\")), \"clean files in test\")\n",
    "print(len(os.listdir(\"test/noisy\")), \"noisy files in test\")\n",
    "print(len(os.listdir(\"valid/clean\")), \"clean files in valid\")\n",
    "print(len(os.listdir(\"valid/noisy\")), \"noisy files in valid\")"
   ]
  },
  {
   "cell_type": "code",
   "execution_count": null,
   "metadata": {},
   "outputs": [],
   "source": []
  }
 ],
 "metadata": {
  "kernelspec": {
   "display_name": "aip",
   "language": "python",
   "name": "python3"
  },
  "language_info": {
   "codemirror_mode": {
    "name": "ipython",
    "version": 3
   },
   "file_extension": ".py",
   "mimetype": "text/x-python",
   "name": "python",
   "nbconvert_exporter": "python",
   "pygments_lexer": "ipython3",
   "version": "3.12.3"
  }
 },
 "nbformat": 4,
 "nbformat_minor": 2
}
